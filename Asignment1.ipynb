{
 "cells": [
  {
   "cell_type": "code",
   "execution_count": 645,
   "id": "ef9a022b",
   "metadata": {},
   "outputs": [],
   "source": [
    "import numpy as np\n",
    "import pandas as pd"
   ]
  },
  {
   "cell_type": "markdown",
   "id": "d46762e0",
   "metadata": {},
   "source": [
    "# Importing the dataset to a Pandas Dataframe"
   ]
  },
  {
   "cell_type": "code",
   "execution_count": 646,
   "id": "ba8a5c7e",
   "metadata": {},
   "outputs": [
    {
     "data": {
      "text/html": [
       "<div>\n",
       "<style scoped>\n",
       "    .dataframe tbody tr th:only-of-type {\n",
       "        vertical-align: middle;\n",
       "    }\n",
       "\n",
       "    .dataframe tbody tr th {\n",
       "        vertical-align: top;\n",
       "    }\n",
       "\n",
       "    .dataframe thead th {\n",
       "        text-align: right;\n",
       "    }\n",
       "</style>\n",
       "<table border=\"1\" class=\"dataframe\">\n",
       "  <thead>\n",
       "    <tr style=\"text-align: right;\">\n",
       "      <th></th>\n",
       "      <th>Pregnancies</th>\n",
       "      <th>Glucose</th>\n",
       "      <th>BloodPressure</th>\n",
       "      <th>SkinThickness</th>\n",
       "      <th>Insulin</th>\n",
       "      <th>BMI</th>\n",
       "      <th>DiabetesPedigreeFunction</th>\n",
       "      <th>Age</th>\n",
       "      <th>Outcome</th>\n",
       "    </tr>\n",
       "  </thead>\n",
       "  <tbody>\n",
       "    <tr>\n",
       "      <th>0</th>\n",
       "      <td>6</td>\n",
       "      <td>148</td>\n",
       "      <td>72</td>\n",
       "      <td>35</td>\n",
       "      <td>0</td>\n",
       "      <td>33.6</td>\n",
       "      <td>0.627</td>\n",
       "      <td>50</td>\n",
       "      <td>1</td>\n",
       "    </tr>\n",
       "    <tr>\n",
       "      <th>1</th>\n",
       "      <td>1</td>\n",
       "      <td>85</td>\n",
       "      <td>66</td>\n",
       "      <td>29</td>\n",
       "      <td>0</td>\n",
       "      <td>26.6</td>\n",
       "      <td>0.351</td>\n",
       "      <td>31</td>\n",
       "      <td>0</td>\n",
       "    </tr>\n",
       "    <tr>\n",
       "      <th>2</th>\n",
       "      <td>8</td>\n",
       "      <td>183</td>\n",
       "      <td>64</td>\n",
       "      <td>0</td>\n",
       "      <td>0</td>\n",
       "      <td>23.3</td>\n",
       "      <td>0.672</td>\n",
       "      <td>32</td>\n",
       "      <td>1</td>\n",
       "    </tr>\n",
       "    <tr>\n",
       "      <th>3</th>\n",
       "      <td>1</td>\n",
       "      <td>89</td>\n",
       "      <td>66</td>\n",
       "      <td>23</td>\n",
       "      <td>94</td>\n",
       "      <td>28.1</td>\n",
       "      <td>0.167</td>\n",
       "      <td>21</td>\n",
       "      <td>0</td>\n",
       "    </tr>\n",
       "    <tr>\n",
       "      <th>4</th>\n",
       "      <td>0</td>\n",
       "      <td>137</td>\n",
       "      <td>40</td>\n",
       "      <td>35</td>\n",
       "      <td>168</td>\n",
       "      <td>43.1</td>\n",
       "      <td>2.288</td>\n",
       "      <td>33</td>\n",
       "      <td>1</td>\n",
       "    </tr>\n",
       "  </tbody>\n",
       "</table>\n",
       "</div>"
      ],
      "text/plain": [
       "   Pregnancies  Glucose  BloodPressure  SkinThickness  Insulin   BMI  \\\n",
       "0            6      148             72             35        0  33.6   \n",
       "1            1       85             66             29        0  26.6   \n",
       "2            8      183             64              0        0  23.3   \n",
       "3            1       89             66             23       94  28.1   \n",
       "4            0      137             40             35      168  43.1   \n",
       "\n",
       "   DiabetesPedigreeFunction  Age  Outcome  \n",
       "0                     0.627   50        1  \n",
       "1                     0.351   31        0  \n",
       "2                     0.672   32        1  \n",
       "3                     0.167   21        0  \n",
       "4                     2.288   33        1  "
      ]
     },
     "execution_count": 646,
     "metadata": {},
     "output_type": "execute_result"
    }
   ],
   "source": [
    "diabatesdf = pd.read_csv(\"diabetes.csv\")\n",
    "diabatesdf.head()"
   ]
  },
  {
   "cell_type": "markdown",
   "id": "e4a46d0f",
   "metadata": {},
   "source": [
    "# Split the dataset into Features and outcomes"
   ]
  },
  {
   "cell_type": "code",
   "execution_count": 647,
   "id": "f683be51",
   "metadata": {},
   "outputs": [],
   "source": [
    "diabetes_X=diabatesdf.iloc[:,:-1]\n",
    "diabetes_Y=diabatesdf.iloc[:,-1:]"
   ]
  },
  {
   "cell_type": "markdown",
   "id": "958cad5c",
   "metadata": {},
   "source": [
    "# Splitting the data into Train, Validation and Test Data and Normalizing it."
   ]
  },
  {
   "cell_type": "code",
   "execution_count": 648,
   "id": "138bb9ab",
   "metadata": {},
   "outputs": [],
   "source": [
    "from sklearn.model_selection import train_test_split\n",
    "from sklearn import preprocessing\n",
    "\n",
    "\n",
    "X_train,X_val_test,Y_train,Y_val_test=train_test_split(diabetes_X,diabetes_Y,train_size=0.6)\n",
    "scaler = preprocessing.StandardScaler().fit(X_train)\n",
    "X_val,X_test,Y_val,Y_test=train_test_split(X_val_test,Y_val_test,train_size=0.5)\n",
    "X_train=scaler.transform(X_train)\n",
    "X_val=scaler.transform(X_val)\n",
    "X_test=scaler.transform(X_test)"
   ]
  },
  {
   "cell_type": "markdown",
   "id": "c2dd9287",
   "metadata": {},
   "source": [
    "# Logestic Regression"
   ]
  },
  {
   "cell_type": "code",
   "execution_count": 649,
   "id": "1020a2bf",
   "metadata": {
    "scrolled": true
   },
   "outputs": [],
   "source": [
    "\n",
    "\n",
    "#This function is used to calculate the sigmoid value \n",
    "def sigmoid_function(result):\n",
    "    return 1/(1+np.exp(-result))\n",
    "#Based on threshhold value this function will return either 1 or Zero\n",
    "def set_threshhold(value):\n",
    "    return 1 if value>0.3 else 0;\n",
    "\n",
    "#This function is used to calculate the accuracy of the predicted values over actual values\n",
    "def calculate_accuracy(y, y_hat):\n",
    "    accuracy = np.sum(y == y_hat) / len(y)\n",
    "    return accuracy\n",
    "#The logestic regression is performed here. It takes epoch and learning rate as paramaters and performs regression\n",
    "def perform_logestic_regression(epoch,learningrate):\n",
    "    #setting the seed to a constant value so that initial weights are equal at all times\n",
    "    np.random.seed(2311)\n",
    "    \n",
    "#weights are asigned at random before the first iteration \n",
    "    weights=np.random.randn(X_train.shape[1])\n",
    "    \n",
    "#in y=mx+b initializing b to zero initially which will be modified later on\n",
    "    intercept=0\n",
    "    \n",
    "#an array of loss values  \n",
    "    loss_array=[]\n",
    "\n",
    "#Iterate through all the tuples in the train set to adjust weights by calculating loss function epoch number of times\n",
    "    for i in range(1,epoch):\n",
    "    #Retrieving Y value using the features and assigned weights\n",
    "        Y_interm=X_train.dot(weights)+intercept\n",
    "    #Normalizing the response using the sigmoid function to [0.0,1.0]\n",
    "        Y_interm=sigmoid_function(Y_interm)\n",
    "        no_of_rows=X_train.shape[0]\n",
    "    #Calculate loss Function\n",
    "        loss = (1/no_of_rows)*(-np.sum(np.multiply(np.log(Y_interm), Y_train.to_numpy()[0]) + np.multiply((1 - Y_train.to_numpy()[0]), np.log(1 - Y_interm))))\n",
    "        loss_array.append(loss)\n",
    "    #Calculate the gradient using the gradient function 1/m(Y-Y`)*X_Train\n",
    "        gradient=(1/no_of_rows)*(np.dot(X_train.T,Y_interm-Y_train['Outcome'].to_numpy()))\n",
    "    #Calculate gradient for intercept using 1/m(sum(Y'-Y))\n",
    "        dz=Y_interm-Y_train['Outcome'].to_numpy()\n",
    "        intercept_gradient = (1 / no_of_rows) * np.sum(dz)\n",
    "    #Updating the weights and intercept based on the gradient function\n",
    "        weights=weights-learningrate*gradient\n",
    "        intercept=intercept-learningrate*intercept_gradient\n",
    "    #Returning weights and the intercept \n",
    "    return weights,intercept\n"
   ]
  },
  {
   "cell_type": "code",
   "execution_count": 650,
   "id": "e687630d",
   "metadata": {},
   "outputs": [
    {
     "name": "stdout",
     "output_type": "stream",
     "text": [
      "The accuracy of validation   0.7304347826086957\n"
     ]
    }
   ],
   "source": [
    "#Logestic Regression modeling happenshere \n",
    "weights,intercept= perform_logestic_regression(170,0.10)\n",
    "\n",
    "#Calculating accuracy for train data\n",
    "y_interm=pd.DataFrame(np.dot(X_train,weights)+intercept).apply(sigmoid_function)[0]\n",
    "y_interm=y_interm.apply(set_threshhold)\n",
    "\n",
    "print(\"The accuracy of validation  \",calculate_accuracy(Y_train['Outcome'].to_numpy(),y_interm.to_numpy()))\n",
    "\n"
   ]
  },
  {
   "cell_type": "code",
   "execution_count": 651,
   "id": "a914b74f",
   "metadata": {},
   "outputs": [
    {
     "name": "stdout",
     "output_type": "stream",
     "text": [
      "Accuracy of the test set is : 0.7337662337662337\n"
     ]
    }
   ],
   "source": [
    "#Validating the Model\n",
    "\n",
    "y_interm=pd.DataFrame(np.dot(X_val,weights)+intercept).apply(sigmoid_function)[0]\n",
    "y_interm=y_interm.apply(set_threshhold)\n",
    "\n",
    "print(\"Accuracy of the test set is :\",calculate_accuracy(Y_val['Outcome'].to_numpy(),y_interm.to_numpy()))"
   ]
  },
  {
   "cell_type": "code",
   "execution_count": 652,
   "id": "4379f041",
   "metadata": {},
   "outputs": [
    {
     "name": "stdout",
     "output_type": "stream",
     "text": [
      "Accuracy of the test set is : 0.7532467532467533\n"
     ]
    }
   ],
   "source": [
    "#Testing the Model\n",
    "\n",
    "y_interm=pd.DataFrame(np.dot(X_test,weights)+intercept).apply(sigmoid_function)[0]\n",
    "y_interm=y_interm.apply(set_threshhold)\n",
    "\n",
    "print(\"Accuracy of the test set is :\",calculate_accuracy(Y_test['Outcome'].to_numpy(),y_interm.to_numpy()))\n",
    "\n"
   ]
  },
  {
   "cell_type": "code",
   "execution_count": null,
   "id": "e55e16cb",
   "metadata": {},
   "outputs": [],
   "source": []
  },
  {
   "cell_type": "code",
   "execution_count": null,
   "id": "b4d2489d",
   "metadata": {},
   "outputs": [],
   "source": []
  },
  {
   "cell_type": "code",
   "execution_count": null,
   "id": "f888a71d",
   "metadata": {},
   "outputs": [],
   "source": []
  },
  {
   "cell_type": "code",
   "execution_count": null,
   "id": "479cd872",
   "metadata": {},
   "outputs": [],
   "source": []
  },
  {
   "cell_type": "code",
   "execution_count": null,
   "id": "ce018894",
   "metadata": {},
   "outputs": [],
   "source": []
  }
 ],
 "metadata": {
  "kernelspec": {
   "display_name": "Python 3",
   "language": "python",
   "name": "python3"
  },
  "language_info": {
   "codemirror_mode": {
    "name": "ipython",
    "version": 3
   },
   "file_extension": ".py",
   "mimetype": "text/x-python",
   "name": "python",
   "nbconvert_exporter": "python",
   "pygments_lexer": "ipython3",
   "version": "3.8.8"
  }
 },
 "nbformat": 4,
 "nbformat_minor": 5
}

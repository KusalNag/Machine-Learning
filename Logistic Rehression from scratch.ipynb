{
 "cells": [
  {
   "cell_type": "code",
   "execution_count": 107,
   "id": "ef9a022b",
   "metadata": {},
   "outputs": [],
   "source": [
    "import numpy as np\n",
    "import pandas as pd"
   ]
  },
  {
   "cell_type": "markdown",
   "id": "d46762e0",
   "metadata": {},
   "source": [
    "# Importing the dataset to a Pandas Dataframe"
   ]
  },
  {
   "cell_type": "code",
   "execution_count": 108,
   "id": "ba8a5c7e",
   "metadata": {},
   "outputs": [
    {
     "data": {
      "text/html": [
       "<div>\n",
       "<style scoped>\n",
       "    .dataframe tbody tr th:only-of-type {\n",
       "        vertical-align: middle;\n",
       "    }\n",
       "\n",
       "    .dataframe tbody tr th {\n",
       "        vertical-align: top;\n",
       "    }\n",
       "\n",
       "    .dataframe thead th {\n",
       "        text-align: right;\n",
       "    }\n",
       "</style>\n",
       "<table border=\"1\" class=\"dataframe\">\n",
       "  <thead>\n",
       "    <tr style=\"text-align: right;\">\n",
       "      <th></th>\n",
       "      <th>Pregnancies</th>\n",
       "      <th>Glucose</th>\n",
       "      <th>BloodPressure</th>\n",
       "      <th>SkinThickness</th>\n",
       "      <th>Insulin</th>\n",
       "      <th>BMI</th>\n",
       "      <th>DiabetesPedigreeFunction</th>\n",
       "      <th>Age</th>\n",
       "      <th>Outcome</th>\n",
       "    </tr>\n",
       "  </thead>\n",
       "  <tbody>\n",
       "    <tr>\n",
       "      <th>0</th>\n",
       "      <td>6</td>\n",
       "      <td>148</td>\n",
       "      <td>72</td>\n",
       "      <td>35</td>\n",
       "      <td>0</td>\n",
       "      <td>33.6</td>\n",
       "      <td>0.627</td>\n",
       "      <td>50</td>\n",
       "      <td>1</td>\n",
       "    </tr>\n",
       "    <tr>\n",
       "      <th>1</th>\n",
       "      <td>1</td>\n",
       "      <td>85</td>\n",
       "      <td>66</td>\n",
       "      <td>29</td>\n",
       "      <td>0</td>\n",
       "      <td>26.6</td>\n",
       "      <td>0.351</td>\n",
       "      <td>31</td>\n",
       "      <td>0</td>\n",
       "    </tr>\n",
       "    <tr>\n",
       "      <th>2</th>\n",
       "      <td>8</td>\n",
       "      <td>183</td>\n",
       "      <td>64</td>\n",
       "      <td>0</td>\n",
       "      <td>0</td>\n",
       "      <td>23.3</td>\n",
       "      <td>0.672</td>\n",
       "      <td>32</td>\n",
       "      <td>1</td>\n",
       "    </tr>\n",
       "    <tr>\n",
       "      <th>3</th>\n",
       "      <td>1</td>\n",
       "      <td>89</td>\n",
       "      <td>66</td>\n",
       "      <td>23</td>\n",
       "      <td>94</td>\n",
       "      <td>28.1</td>\n",
       "      <td>0.167</td>\n",
       "      <td>21</td>\n",
       "      <td>0</td>\n",
       "    </tr>\n",
       "    <tr>\n",
       "      <th>4</th>\n",
       "      <td>0</td>\n",
       "      <td>137</td>\n",
       "      <td>40</td>\n",
       "      <td>35</td>\n",
       "      <td>168</td>\n",
       "      <td>43.1</td>\n",
       "      <td>2.288</td>\n",
       "      <td>33</td>\n",
       "      <td>1</td>\n",
       "    </tr>\n",
       "  </tbody>\n",
       "</table>\n",
       "</div>"
      ],
      "text/plain": [
       "   Pregnancies  Glucose  BloodPressure  SkinThickness  Insulin   BMI  \\\n",
       "0            6      148             72             35        0  33.6   \n",
       "1            1       85             66             29        0  26.6   \n",
       "2            8      183             64              0        0  23.3   \n",
       "3            1       89             66             23       94  28.1   \n",
       "4            0      137             40             35      168  43.1   \n",
       "\n",
       "   DiabetesPedigreeFunction  Age  Outcome  \n",
       "0                     0.627   50        1  \n",
       "1                     0.351   31        0  \n",
       "2                     0.672   32        1  \n",
       "3                     0.167   21        0  \n",
       "4                     2.288   33        1  "
      ]
     },
     "execution_count": 108,
     "metadata": {},
     "output_type": "execute_result"
    }
   ],
   "source": [
    "diabatesdf = pd.read_csv(\"diabetes.csv\")\n",
    "diabatesdf.head()"
   ]
  },
  {
   "cell_type": "markdown",
   "id": "e4a46d0f",
   "metadata": {},
   "source": [
    "# Split the dataset into Features and outcomes"
   ]
  },
  {
   "cell_type": "code",
   "execution_count": 109,
   "id": "f683be51",
   "metadata": {},
   "outputs": [],
   "source": [
    "diabetes_X=diabatesdf.iloc[:,:-1]\n",
    "diabetes_Y=diabatesdf.iloc[:,-1:]"
   ]
  },
  {
   "cell_type": "markdown",
   "id": "958cad5c",
   "metadata": {},
   "source": [
    "# Splitting the data into Train, Validation and Test Data and Normalizing it."
   ]
  },
  {
   "cell_type": "code",
   "execution_count": 110,
   "id": "138bb9ab",
   "metadata": {},
   "outputs": [
    {
     "data": {
      "text/html": [
       "<div>\n",
       "<style scoped>\n",
       "    .dataframe tbody tr th:only-of-type {\n",
       "        vertical-align: middle;\n",
       "    }\n",
       "\n",
       "    .dataframe tbody tr th {\n",
       "        vertical-align: top;\n",
       "    }\n",
       "\n",
       "    .dataframe thead th {\n",
       "        text-align: right;\n",
       "    }\n",
       "</style>\n",
       "<table border=\"1\" class=\"dataframe\">\n",
       "  <thead>\n",
       "    <tr style=\"text-align: right;\">\n",
       "      <th></th>\n",
       "      <th>0</th>\n",
       "      <th>1</th>\n",
       "      <th>2</th>\n",
       "      <th>3</th>\n",
       "      <th>4</th>\n",
       "      <th>5</th>\n",
       "      <th>6</th>\n",
       "      <th>7</th>\n",
       "    </tr>\n",
       "  </thead>\n",
       "  <tbody>\n",
       "    <tr>\n",
       "      <th>0</th>\n",
       "      <td>1.000000</td>\n",
       "      <td>0.088662</td>\n",
       "      <td>0.145835</td>\n",
       "      <td>-0.106744</td>\n",
       "      <td>-0.108595</td>\n",
       "      <td>-0.009038</td>\n",
       "      <td>-0.026984</td>\n",
       "      <td>0.539514</td>\n",
       "    </tr>\n",
       "    <tr>\n",
       "      <th>1</th>\n",
       "      <td>0.088662</td>\n",
       "      <td>1.000000</td>\n",
       "      <td>0.123744</td>\n",
       "      <td>0.071498</td>\n",
       "      <td>0.342985</td>\n",
       "      <td>0.223237</td>\n",
       "      <td>0.141446</td>\n",
       "      <td>0.237441</td>\n",
       "    </tr>\n",
       "    <tr>\n",
       "      <th>2</th>\n",
       "      <td>0.145835</td>\n",
       "      <td>0.123744</td>\n",
       "      <td>1.000000</td>\n",
       "      <td>0.206234</td>\n",
       "      <td>0.100343</td>\n",
       "      <td>0.231288</td>\n",
       "      <td>0.058635</td>\n",
       "      <td>0.254221</td>\n",
       "    </tr>\n",
       "    <tr>\n",
       "      <th>3</th>\n",
       "      <td>-0.106744</td>\n",
       "      <td>0.071498</td>\n",
       "      <td>0.206234</td>\n",
       "      <td>1.000000</td>\n",
       "      <td>0.475994</td>\n",
       "      <td>0.441380</td>\n",
       "      <td>0.216026</td>\n",
       "      <td>-0.149923</td>\n",
       "    </tr>\n",
       "    <tr>\n",
       "      <th>4</th>\n",
       "      <td>-0.108595</td>\n",
       "      <td>0.342985</td>\n",
       "      <td>0.100343</td>\n",
       "      <td>0.475994</td>\n",
       "      <td>1.000000</td>\n",
       "      <td>0.236236</td>\n",
       "      <td>0.207385</td>\n",
       "      <td>-0.086827</td>\n",
       "    </tr>\n",
       "    <tr>\n",
       "      <th>5</th>\n",
       "      <td>-0.009038</td>\n",
       "      <td>0.223237</td>\n",
       "      <td>0.231288</td>\n",
       "      <td>0.441380</td>\n",
       "      <td>0.236236</td>\n",
       "      <td>1.000000</td>\n",
       "      <td>0.214237</td>\n",
       "      <td>-0.024679</td>\n",
       "    </tr>\n",
       "    <tr>\n",
       "      <th>6</th>\n",
       "      <td>-0.026984</td>\n",
       "      <td>0.141446</td>\n",
       "      <td>0.058635</td>\n",
       "      <td>0.216026</td>\n",
       "      <td>0.207385</td>\n",
       "      <td>0.214237</td>\n",
       "      <td>1.000000</td>\n",
       "      <td>0.026227</td>\n",
       "    </tr>\n",
       "    <tr>\n",
       "      <th>7</th>\n",
       "      <td>0.539514</td>\n",
       "      <td>0.237441</td>\n",
       "      <td>0.254221</td>\n",
       "      <td>-0.149923</td>\n",
       "      <td>-0.086827</td>\n",
       "      <td>-0.024679</td>\n",
       "      <td>0.026227</td>\n",
       "      <td>1.000000</td>\n",
       "    </tr>\n",
       "  </tbody>\n",
       "</table>\n",
       "</div>"
      ],
      "text/plain": [
       "          0         1         2         3         4         5         6  \\\n",
       "0  1.000000  0.088662  0.145835 -0.106744 -0.108595 -0.009038 -0.026984   \n",
       "1  0.088662  1.000000  0.123744  0.071498  0.342985  0.223237  0.141446   \n",
       "2  0.145835  0.123744  1.000000  0.206234  0.100343  0.231288  0.058635   \n",
       "3 -0.106744  0.071498  0.206234  1.000000  0.475994  0.441380  0.216026   \n",
       "4 -0.108595  0.342985  0.100343  0.475994  1.000000  0.236236  0.207385   \n",
       "5 -0.009038  0.223237  0.231288  0.441380  0.236236  1.000000  0.214237   \n",
       "6 -0.026984  0.141446  0.058635  0.216026  0.207385  0.214237  1.000000   \n",
       "7  0.539514  0.237441  0.254221 -0.149923 -0.086827 -0.024679  0.026227   \n",
       "\n",
       "          7  \n",
       "0  0.539514  \n",
       "1  0.237441  \n",
       "2  0.254221  \n",
       "3 -0.149923  \n",
       "4 -0.086827  \n",
       "5 -0.024679  \n",
       "6  0.026227  \n",
       "7  1.000000  "
      ]
     },
     "execution_count": 110,
     "metadata": {},
     "output_type": "execute_result"
    }
   ],
   "source": [
    "from sklearn.model_selection import train_test_split\n",
    "from sklearn import preprocessing\n",
    "# np.random.seed(2122)\n",
    "# np.random.seed(1631)\n",
    "np.random.seed(1200)\n",
    "\n",
    "X_train,X_val_test,Y_train,Y_val_test=train_test_split(diabetes_X,diabetes_Y,train_size=0.6)\n",
    "scaler = preprocessing.StandardScaler().fit(X_train)\n",
    "X_val,X_test,Y_val,Y_test=train_test_split(X_val_test,Y_val_test,train_size=0.5)\n",
    "X_train=scaler.transform(X_train)\n",
    "X_val=scaler.transform(X_val)\n",
    "X_test=scaler.transform(X_test)\n",
    "pd.DataFrame(X_train).corr()"
   ]
  },
  {
   "cell_type": "code",
   "execution_count": 111,
   "id": "70913bb5",
   "metadata": {},
   "outputs": [
    {
     "name": "stdout",
     "output_type": "stream",
     "text": [
      "Total number of data items: 768\n",
      "\n",
      "Number of data points in the training dataset: 460\n",
      "\n",
      "Number of data points in the Validation dataset: 154\n",
      "\n",
      "Number of data points in the test dataset: 154\n",
      "\n",
      "Shape of the training dataset: (460, 8)\n",
      "\n",
      "Shape of the test dataset: (154, 8)\n",
      "\n",
      " Training dataset type: <class 'numpy.ndarray'>\n",
      "\n",
      " Test dataset type: <class 'numpy.ndarray'>\n"
     ]
    }
   ],
   "source": [
    "print('Total number of data items:', len(diabatesdf))\n",
    "print('\\nNumber of data points in the training dataset:', len(X_train))\n",
    "print('\\nNumber of data points in the Validation dataset:', len(X_val))\n",
    "print('\\nNumber of data points in the test dataset:', len(X_test))\n",
    "print('\\nShape of the training dataset:', X_train.shape)\n",
    "print('\\nShape of the test dataset:', X_test.shape)\n",
    "print('\\n Training dataset type:', type(X_train))\n",
    "print('\\n Test dataset type:', type(X_test))"
   ]
  },
  {
   "cell_type": "code",
   "execution_count": 112,
   "id": "c7c27dc1",
   "metadata": {},
   "outputs": [
    {
     "data": {
      "image/png": "[encoded data removed]",
      "text/plain": [
       "<Figure size 720x720 with 1 Axes>"
      ]
     },
     "metadata": {
      "needs_background": "light"
     },
     "output_type": "display_data"
    }
   ],
   "source": [
    "import matplotlib.pyplot as plt\n",
    "fig = plt.figure(figsize=(10, 10))\n",
    "plt.plot(X_train,Y_train, 'o')\n",
    "plt.grid()\n",
    "plt.xlabel('Patient Data', fontsize=18)\n",
    "plt.ylabel('Diabeties Prediction', fontsize=18)\n",
    "plt.xticks(fontsize=12)\n",
    "plt.yticks(fontsize=12)\n",
    "plt.title('Data', fontsize=32)\n",
    "plt.show()"
   ]
  },
  {
   "cell_type": "markdown",
   "id": "c2dd9287",
   "metadata": {},
   "source": [
    "# Logestic Regression using Gradient Descent"
   ]
  },
  {
   "cell_type": "code",
   "execution_count": 113,
   "id": "1020a2bf",
   "metadata": {
    "scrolled": true
   },
   "outputs": [],
   "source": [
    "\n",
    "\n",
    "#This function is used to calculate the sigmoid value \n",
    "def sigmoid_function(result):\n",
    "    return 1/(1+np.exp(-result))\n",
    "#Based on threshhold value this function will return either 1 or Zero\n",
    "def set_threshhold(value):\n",
    "    return 1 if value>0.5 else 0;\n",
    "\n",
    "#This function is used to calculate the accuracy of the predicted values over actual values\n",
    "def calculate_accuracy(y, y_hat):\n",
    "    accuracy = np.sum(y == y_hat) / len(y)\n",
    "    return accuracy\n",
    "#The logestic regression is performed here. It takes epoch and learning rate as paramaters and performs regression\n",
    "def perform_logestic_regression(epoch,learningrate):\n",
    "    \n",
    "    #setting the seed to a constant value so that initial weights are equal at all times\n",
    "#     np.random.seed(2311)\n",
    "    np.random.seed(1200)\n",
    "    \n",
    "#weights are asigned at random before the first iteration \n",
    "    weights=np.random.randn(X_train.shape[1])\n",
    "#in y=mx+b initializing b to zero initially which will be modified later on\n",
    "    intercept=0\n",
    "    \n",
    "#an array of loss values  \n",
    "    loss_array=[]\n",
    "\n",
    "#Iterate through all the tuples in the train set to adjust weights by calculating loss function epoch number of times\n",
    "    for i in range(0,epoch):\n",
    "    #Retrieving Y value using the features and assigned weights\n",
    "        Y_interm=X_train.dot(weights)+intercept\n",
    "    #Normalizing the response using the sigmoid function to [0.0,1.0]\n",
    "        Y_interm=sigmoid_function(Y_interm)\n",
    "        no_of_rows=X_train.shape[0]\n",
    "    #Calculate loss Function\n",
    "        loss = (1/no_of_rows)*(-np.sum(np.multiply(np.log(Y_interm), Y_train.to_numpy()[0]) + np.multiply((1 - Y_train.to_numpy()[0]), np.log(1 - Y_interm))))\n",
    "        loss_array.append(loss)\n",
    "    #Calculate the gradient using the gradient function 1/m(Y-Y`)*X_Train\n",
    "        gradient=(1/no_of_rows)*(np.dot(X_train.T,Y_interm-Y_train['Outcome'].to_numpy()))\n",
    "    #Calculate gradient for intercept using 1/m(sum(Y'-Y))\n",
    "        dz=Y_interm-Y_train['Outcome'].to_numpy()\n",
    "        intercept_gradient = (1 / no_of_rows) * np.sum(dz)\n",
    "    #Updating the weights and intercept based on the gradient function\n",
    "        weights=weights-learningrate*gradient\n",
    "        intercept=intercept-learningrate*intercept_gradient\n",
    "    #Returning weights and the intercept \n",
    "\n",
    "\n",
    "    return weights,intercept,loss_array\n"
   ]
  },
  {
   "cell_type": "code",
   "execution_count": 126,
   "id": "e687630d",
   "metadata": {},
   "outputs": [
    {
     "name": "stdout",
     "output_type": "stream",
     "text": [
      "The accuracy of train set for epoch  77  and learning rate  0.01 is   0.48478260869565215\n",
      "Accuracy of the validation set for epoch  77  and learning rate  0.01 is  : 0.4935064935064935\n",
      "The accuracy of train set for epoch  77  and learning rate  0.1 is   0.7326086956521739\n",
      "Accuracy of the validation set for epoch  77  and learning rate  0.1 is  : 0.7922077922077922\n",
      "The accuracy of train set for epoch  77  and learning rate  1 is   0.7630434782608696\n",
      "Accuracy of the validation set for epoch  77  and learning rate  1 is  : 0.7662337662337663\n",
      "The accuracy of train set for epoch  170  and learning rate  0.01 is   0.5782608695652174\n",
      "Accuracy of the validation set for epoch  170  and learning rate  0.01 is  : 0.6038961038961039\n",
      "The accuracy of train set for epoch  170  and learning rate  0.1 is   0.7543478260869565\n",
      "Accuracy of the validation set for epoch  170  and learning rate  0.1 is  : 0.7922077922077922\n",
      "The accuracy of train set for epoch  170  and learning rate  1 is   0.7630434782608696\n",
      "Accuracy of the validation set for epoch  170  and learning rate  1 is  : 0.7662337662337663\n"
     ]
    },
    {
     "data": {
      "image/png": "[encoded data removed]",
      "text/plain": [
       "<Figure size 720x720 with 1 Axes>"
      ]
     },
     "metadata": {
      "needs_background": "light"
     },
     "output_type": "display_data"
    }
   ],
   "source": [
    "fig = plt.figure(figsize=(10, 10))\n",
    "#Logestic Regression modeling happenshere \n",
    "for epoch in [77,170]:\n",
    "    for learning in [0.01,0.1,1]:\n",
    "        weights,intercept,loss_array= perform_logestic_regression(epoch,learning)\n",
    "        plt.plot(loss_array,'--',label='e='+str(epoch)+' alpha = '+str(learning))\n",
    "        plt.title(\"epoch,lr vs loss\", fontsize=18)\n",
    "        plt.xlabel('Epochs', fontsize=18)\n",
    "        plt.ylabel('Loss Value', fontsize=18)\n",
    "               \n",
    "        #Calculating accuracy for train data\n",
    "        y_interm=pd.DataFrame(np.dot(X_train,weights)+intercept).apply(sigmoid_function)[0]\n",
    "        y_interm=y_interm.apply(set_threshhold)\n",
    "\n",
    "        print(\"The accuracy of train set for epoch \",epoch,\" and learning rate \",learning,\"is  \",calculate_accuracy(Y_train['Outcome'].to_numpy(),y_interm.to_numpy()))\n",
    "        #Validating the Model\n",
    "\n",
    "        y_interm=pd.DataFrame(np.dot(X_val,weights)+intercept).apply(sigmoid_function)[0]\n",
    "        y_interm=y_interm.apply(set_threshhold)\n",
    "\n",
    "        print(\"Accuracy of the validation set for epoch \",epoch,\" and learning rate \",learning,\"is  :\",calculate_accuracy(Y_val['Outcome'].to_numpy(),y_interm.to_numpy()))\n",
    "        #Testing the Model\n",
    "\n",
    "        y_interm=pd.DataFrame(np.dot(X_test,weights)+intercept).apply(sigmoid_function)[0]\n",
    "        y_interm=y_interm.apply(set_threshhold)\n",
    "plt.legend() \n",
    "plt.show()\n"
   ]
  },
  {
   "cell_type": "code",
   "execution_count": 130,
   "id": "715da06c",
   "metadata": {},
   "outputs": [
    {
     "name": "stdout",
     "output_type": "stream",
     "text": [
      "The accuracy of train set for epoch  170  and learning rate  1 is   0.7326086956521739\n"
     ]
    }
   ],
   "source": [
    "#Choosing e=170 and alpha = 0.1 from the above observations\n",
    "weights,intercept,loss_array= perform_logestic_regression(77,0.1)\n"
   ]
  },
  {
   "cell_type": "code",
   "execution_count": 128,
   "id": "a914b74f",
   "metadata": {},
   "outputs": [
    {
     "name": "stdout",
     "output_type": "stream",
     "text": [
      "Accuracy of the test set is : 0.7922077922077922\n"
     ]
    }
   ],
   "source": [
    "#Validating accuracy for e=170, lr=0.1\n",
    "y_interm=pd.DataFrame(np.dot(X_val,weights)+intercept).apply(sigmoid_function)[0]\n",
    "y_interm=y_interm.apply(set_threshhold)\n",
    "\n",
    "print(\"Accuracy of the test set is :\",calculate_accuracy(Y_val['Outcome'].to_numpy(),y_interm.to_numpy()))"
   ]
  },
  {
   "cell_type": "code",
   "execution_count": 129,
   "id": "4379f041",
   "metadata": {},
   "outputs": [
    {
     "name": "stdout",
     "output_type": "stream",
     "text": [
      "Accuracy of the test set is : 0.7727272727272727\n"
     ]
    }
   ],
   "source": [
    "#Testing the Model for e=170, lr=0.1\n",
    "\n",
    "y_interm=pd.DataFrame(np.dot(X_test,weights)+intercept).apply(sigmoid_function)[0]\n",
    "y_interm=y_interm.apply(set_threshhold)\n",
    "print(\"Accuracy of the test set is :\",calculate_accuracy(Y_test['Outcome'].to_numpy(),y_interm.to_numpy()))"
   ]
  },
  {
   "cell_type": "code",
   "execution_count": 118,
   "id": "36dfbb78",
   "metadata": {},
   "outputs": [
    {
     "data": {
      "image/png": "[encoded data removed]",
      "text/plain": [
       "<Figure size 720x720 with 1 Axes>"
      ]
     },
     "metadata": {
      "needs_background": "light"
     },
     "output_type": "display_data"
    }
   ],
   "source": [
    "fig = plt.figure(figsize=(10, 10))\n",
    "plt.plot(y_interm.to_numpy(),'ro',alpha=0.2)\n",
    "plt.plot(Y_test['Outcome'].to_numpy(),'bo',alpha=0.2)\n",
    "plt.title('Predicted vs Expected for Test Data', fontsize=18)\n",
    "plt.xlabel('Instances', fontsize=18)\n",
    "plt.ylabel('Outcome', fontsize=18)\n",
    "plt.show()"
   ]
  },
  {
   "cell_type": "code",
   "execution_count": null,
   "id": "1cf789bb",
   "metadata": {},
   "outputs": [],
   "source": []
  }
 ],
 "metadata": {
  "kernelspec": {
   "display_name": "Python 3",
   "language": "python",
   "name": "python3"
  },
  "language_info": {
   "codemirror_mode": {
    "name": "ipython",
    "version": 3
   },
   "file_extension": ".py",
   "mimetype": "text/x-python",
   "name": "python",
   "nbconvert_exporter": "python",
   "pygments_lexer": "ipython3",
   "version": "3.8.8"
  }
 },
 "nbformat": 4,
 "nbformat_minor": 5
}
